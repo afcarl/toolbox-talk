{
 "cells": [
  {
   "cell_type": "markdown",
   "metadata": {},
   "source": [
    "# A baseline Neural Network\n",
    "\n",
    "This notebook contains a simple convolutional neural network that serves as baseline for other methods."
   ]
  },
  {
   "cell_type": "code",
   "execution_count": 1,
   "metadata": {},
   "outputs": [],
   "source": [
    "%matplotlib inline"
   ]
  },
  {
   "cell_type": "code",
   "execution_count": 2,
   "metadata": {},
   "outputs": [],
   "source": [
    "import matplotlib.pyplot as plt"
   ]
  },
  {
   "cell_type": "code",
   "execution_count": 3,
   "metadata": {},
   "outputs": [
    {
     "name": "stderr",
     "output_type": "stream",
     "text": [
      "/Users/thead/anaconda/envs/toolbox-talk/lib/python3.6/site-packages/h5py/__init__.py:36: FutureWarning: Conversion of the second argument of issubdtype from `float` to `np.floating` is deprecated. In future, it will be treated as `np.float64 == np.dtype(float).type`.\n",
      "  from ._conv import register_converters as _register_converters\n",
      "Using TensorFlow backend.\n"
     ]
    }
   ],
   "source": [
    "from keras.layers import Dense, Flatten, Activation, Dropout, Input\n",
    "from keras.models import Model\n",
    "from keras.layers.convolutional import Conv2D, MaxPooling2D\n",
    "\n",
    "import json\n",
    "import numpy as np\n",
    "\n",
    "import utils"
   ]
  },
  {
   "cell_type": "markdown",
   "metadata": {},
   "source": [
    "## Data loading and augmentation\n",
    "\n",
    "We augment the dataset by adding rotations and flips of the original images to the training data."
   ]
  },
  {
   "cell_type": "code",
   "execution_count": 4,
   "metadata": {},
   "outputs": [],
   "source": [
    "X, y = utils.load_data(one_hot=True)"
   ]
  },
  {
   "cell_type": "code",
   "execution_count": 5,
   "metadata": {},
   "outputs": [],
   "source": [
    "from sklearn.model_selection import train_test_split\n",
    "\n",
    "X_train, X_test, y_train, y_test = train_test_split(X, y, random_state=1)\n",
    "\n",
    "def augment(X, y):\n",
    "    X_prime = np.concatenate((\n",
    "        X,\n",
    "        np.rot90(X, 1, (1,2)),\n",
    "        np.rot90(X, 2, (1,2)),\n",
    "        np.rot90(X, 3, (1,2)),\n",
    "        np.flip(X, 1),\n",
    "        np.flip(X, 1)\n",
    "        ))\n",
    "    y_prime = np.concatenate((y, y, y, y, y, y))\n",
    "    return X_prime, y_prime\n",
    "\n",
    "X_train, y_train = augment(X_train, y_train)"
   ]
  },
  {
   "cell_type": "code",
   "execution_count": 6,
   "metadata": {},
   "outputs": [
    {
     "data": {
      "text/plain": [
       "((12600, 80, 80, 3), (12600, 2))"
      ]
     },
     "execution_count": 6,
     "metadata": {},
     "output_type": "execute_result"
    }
   ],
   "source": [
    "X_train.shape, y_train.shape"
   ]
  },
  {
   "cell_type": "markdown",
   "metadata": {},
   "source": [
    "## Network definition and training\n",
    "\n",
    "A three layer convnet with pooling and dropout."
   ]
  },
  {
   "cell_type": "code",
   "execution_count": 7,
   "metadata": {},
   "outputs": [],
   "source": [
    "x = Input(shape=(80, 80, 3))\n",
    "\n",
    "h = Conv2D(32, (3,3), padding='same', activation='relu')(x)\n",
    "h = MaxPooling2D(pool_size=(2,2))(h)\n",
    "h = Dropout(0.25)(h)\n",
    "\n",
    "h = Conv2D(32, (3,3), padding='same', activation='relu')(x)\n",
    "h = MaxPooling2D(pool_size=(2,2))(h)\n",
    "h = Dropout(0.25)(h)\n",
    "\n",
    "h = Conv2D(32, (3,3), padding='same', activation='relu')(x)\n",
    "h = MaxPooling2D(pool_size=(2,2))(h)\n",
    "h = Dropout(0.25)(h)\n",
    "\n",
    "d = Flatten()(h)\n",
    "y = Dense(2, activation='softmax')(d)\n",
    "\n",
    "model = Model(x, y)"
   ]
  },
  {
   "cell_type": "code",
   "execution_count": 8,
   "metadata": {},
   "outputs": [],
   "source": [
    "model.compile(loss='categorical_crossentropy',\n",
    "              optimizer='sgd',\n",
    "              metrics=['accuracy'])"
   ]
  },
  {
   "cell_type": "code",
   "execution_count": 9,
   "metadata": {},
   "outputs": [
    {
     "name": "stdout",
     "output_type": "stream",
     "text": [
      "Train on 10080 samples, validate on 2520 samples\n",
      "Epoch 1/10\n",
      "10080/10080 [==============================] - 82s 8ms/step - loss: 0.3879 - acc: 0.8304 - val_loss: 0.3449 - val_acc: 0.8405\n",
      "Epoch 2/10\n",
      "10080/10080 [==============================] - 75s 7ms/step - loss: 0.2700 - acc: 0.8814 - val_loss: 0.2448 - val_acc: 0.8929\n",
      "Epoch 3/10\n",
      "10080/10080 [==============================] - 75s 7ms/step - loss: 0.2215 - acc: 0.9077 - val_loss: 0.2310 - val_acc: 0.8913\n",
      "Epoch 4/10\n",
      "10080/10080 [==============================] - 76s 8ms/step - loss: 0.2019 - acc: 0.9136 - val_loss: 0.1923 - val_acc: 0.9210\n",
      "Epoch 5/10\n",
      "10080/10080 [==============================] - 80s 8ms/step - loss: 0.1906 - acc: 0.9213 - val_loss: 0.2039 - val_acc: 0.9083\n",
      "Epoch 6/10\n",
      "10080/10080 [==============================] - 84s 8ms/step - loss: 0.1810 - acc: 0.9236 - val_loss: 0.1913 - val_acc: 0.9254\n",
      "Epoch 7/10\n",
      "10080/10080 [==============================] - 71s 7ms/step - loss: 0.1757 - acc: 0.9260 - val_loss: 0.1978 - val_acc: 0.9107\n",
      "Epoch 8/10\n",
      "10080/10080 [==============================] - 61s 6ms/step - loss: 0.1676 - acc: 0.9292 - val_loss: 0.1765 - val_acc: 0.9171\n",
      "Epoch 9/10\n",
      "10080/10080 [==============================] - 62s 6ms/step - loss: 0.1623 - acc: 0.9324 - val_loss: 0.1841 - val_acc: 0.9155\n",
      "Epoch 10/10\n",
      "10080/10080 [==============================] - 66s 7ms/step - loss: 0.1577 - acc: 0.9352 - val_loss: 0.1612 - val_acc: 0.9389\n"
     ]
    }
   ],
   "source": [
    "history = model.fit(X_train,\n",
    "                    y_train,\n",
    "                    epochs=10,\n",
    "                    validation_split=0.2)"
   ]
  },
  {
   "cell_type": "code",
   "execution_count": 10,
   "metadata": {},
   "outputs": [
    {
     "data": {
      "image/png": "[encoded data removed]",
      "text/plain": [
       "<Figure size 432x288 with 1 Axes>"
      ]
     },
     "metadata": {},
     "output_type": "display_data"
    }
   ],
   "source": [
    "plt.plot(history.history['loss'], label='loss')\n",
    "plt.plot(history.history['val_loss'], label='validation loss')\n",
    "plt.legend(loc='best');"
   ]
  },
  {
   "cell_type": "code",
   "execution_count": 13,
   "metadata": {},
   "outputs": [
    {
     "name": "stdout",
     "output_type": "stream",
     "text": [
      "700/700 [==============================] - 1s 2ms/step\n"
     ]
    }
   ],
   "source": [
    "loss, accuracy = model.evaluate(x=X_test, y=y_test,\n",
    "                                verbose=1)"
   ]
  },
  {
   "cell_type": "code",
   "execution_count": 14,
   "metadata": {},
   "outputs": [
    {
     "name": "stdout",
     "output_type": "stream",
     "text": [
      "Test accuracy: 0.9457142846924919\n"
     ]
    }
   ],
   "source": [
    "print(\"Test accuracy:\", accuracy)"
   ]
  },
  {
   "cell_type": "markdown",
   "metadata": {},
   "source": [
    "## Store model\n",
    "\n",
    "Store the model for later use in production."
   ]
  },
  {
   "cell_type": "code",
   "execution_count": 12,
   "metadata": {},
   "outputs": [],
   "source": [
    "model.save(\"conv-net.h5\")"
   ]
  },
  {
   "cell_type": "code",
   "execution_count": null,
   "metadata": {},
   "outputs": [],
   "source": []
  }
 ],
 "metadata": {
  "kernelspec": {
   "display_name": "Python 3",
   "language": "python",
   "name": "python3"
  },
  "language_info": {
   "codemirror_mode": {
    "name": "ipython",
    "version": 3
   },
   "file_extension": ".py",
   "mimetype": "text/x-python",
   "name": "python",
   "nbconvert_exporter": "python",
   "pygments_lexer": "ipython3",
   "version": "3.6.4"
  }
 },
 "nbformat": 4,
 "nbformat_minor": 2
}
